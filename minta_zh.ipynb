{
 "cells": [
  {
   "cell_type": "markdown",
   "id": "ebd9f412-c3c2-4598-a5f5-b4fe648360d0",
   "metadata": {},
   "source": [
    "Készítsen ImageDataGeneratort, amely a megadott források közül a train könyvtárban levő tanítómintákat\r\n",
    "fogja a modellnek átadni.\r\n",
    "a. A tanítóadatokként használt képeket 64×64-es méretű színes képekre méretezze át, 64-es méretű\r\n",
    "kötegekben adja át a hálózatnak\r\n",
    "b. Készítsen a validációs és tesztadatokhoz is generátort!"
   ]
  },
  {
   "cell_type": "code",
   "execution_count": null,
   "id": "419eda2e-80ba-47dd-a370-2539e4ee65b2",
   "metadata": {},
   "outputs": [],
   "source": [
    "from keras.preprocessing.image import ImageDataGenerator\n",
    "\n",
    "train_datagen = ImageDataGenerator(\n",
    "    rescale=1.0/255,  \n",
    "    featurewise_std_normalization=True  \n",
    ")\n",
    "\n",
    "train_generator = train_datagen.flow_from_directory(\n",
    "    'path/to/train',  \n",
    "    target_size=(64, 64),  \n",
    "    batch_size=64,  \n",
    "    class_mode='categorical' \n",
    ")\n",
    "\n",
    "validation_datagen = ImageDataGenerator(\n",
    "    rescale=1.0/255,  \n",
    "    featurewise_std_normalization=True  \n",
    ")\n",
    "\n",
    "validation_generator = validation_datagen.flow_from_directory(\n",
    "    'path/to/validation',  \n",
    "    target_size=(64, 64),  \n",
    "    batch_size=64,  \n",
    "    class_mode='categorical'  \n",
    ")\n",
    "\n",
    "test_datagen = ImageDataGenerator(\n",
    "    rescale=1.0/255,  \n",
    "    featurewise_std_normalization=True  \n",
    ")\n",
    "\n",
    "test_generator = test_datagen.flow_from_directory(\n",
    "    'path/to/test', \n",
    "    target_size=(64, 64), \n",
    "    batch_size=64,\n",
    "    class_mode='categorical'\n",
    ")"
   ]
  },
  {
   "cell_type": "markdown",
   "id": "80416078-0c94-4843-9760-6a01fb36fdc2",
   "metadata": {},
   "source": [
    "Készítsen modellt, amelynek a bemenete egy 64×64×3-as tenzor, rétegei pedig a lentebbiek szerint adottak!\n",
    "\r\n",
    "a. Az első réteg 32 darab 5×5 méretű kétdimenziós konvolúciós filtert tanítson;\r\n",
    "b. E réteget regularizálja dropout technikával, 0.2-es értékű dropout rátával;\r\n",
    "c. A második réteg 64 darab 5×5 méretű kétdimenziós konvolúciós filtert tanítson;\r\n",
    "d. E réteget is regularizálja dropout technikával, 0.2-es értékű dropout rátával;\r\n",
    "e. A harmadik réteg kétdimenziós maxpooling legyen, tanított paraméter nélkül, 2×2-es méretű ablakkal;\r\n",
    "f. Ezt követően összesen négy darab kétdimenziós konvolúciósfiltert következik egymás után, mindegyik\r\n",
    "64 darab 3×3 méretű kernellel, melyek mindegyike 0.1 értékű dropout rátával adott dropout\r\n",
    "regularizációt alkalmazzon;\r\n",
    "g. Ezt követően egy újabb kétdimenziós maxpooling következik, tanított paraméter nélkül, 2×2-es\r\n",
    "méretű ablakkal;\r\n",
    "h. Végül ismét 3 egyforma kétdimenziós konvolúciós szűrő következik egymást követően: mindegyik 128\r\n",
    "darab 3×3 méretű kernellel, és mindegyik 0.1 értékű dropouttal regularizálva;\r\n",
    "i. Egy utolsó kétdimenziós maxpooling 2×2 méretű ablakkal;\r\n",
    "j. Majd az eddigi kimenet aktivációs térképét (amelynek mérete itt 128×2×2 kell legyen) alakítsuk át egy\r\n",
    "egydimenziós 512 elemű vektorrá „lapítással”;\r\n",
    "k. E vektor minden elemét pedig kössük rá egy 128 neuronból álló réteg minden elemére;\r\n",
    "l. Majd végül egy 8 elemű réteg legyen a h\n",
    "zat kimenete.\r\n",
    "3. Minden neuron aktivációja ReLU legyen, kivéve a kimeneti réteget, ahol softmaxot alkalmazzon!"
   ]
  },
  {
   "cell_type": "code",
   "execution_count": null,
   "id": "71ecaf4e-a746-405f-b7c8-4120b98d5e66",
   "metadata": {},
   "outputs": [],
   "source": [
    "from keras import Sequential\n",
    "from keras.layers import Conv2D, MaxPooling2D, Dropout, Flatten, \n",
    "\n",
    "model = Sequential()\n",
    "model.add(Conv2D(32, (5, 5), activation='relu', input_shape=(64, 64, 3)))\n",
    "model.add(Dropout(0.2))\n",
    "\n",
    "model.add(Conv2D(64, (5, 5), activation='relu'))\n",
    "model.add(Dropout(0.2))\n",
    "\n",
    "model.add(MaxPooling2D(pool_size=(2, 2)))\n",
    "\n",
    "model.add(Conv2D(64, (3, 3), activation='relu'))\n",
    "model.add(Dropout(0.1))\n",
    "model.add(Conv2D(64, (3, 3), activation='relu'))\n",
    "model.add(Dropout(0.1))\n",
    "model.add(Conv2D(64, (3, 3), activation='relu'))\n",
    "model.add(Dropout(0.1))\n",
    "model.add(Conv2D(64, (3, 3), activation='relu'))\n",
    "model.add(Dropout(0.1))\n",
    "\n",
    "model.add(MaxPooling2D(pool_size=(2, 2)))\n",
    "\n",
    "model.add(Conv2D(128, (3, 3), activation='relu'))\n",
    "model.add(Dropout(0.1))\n",
    "model.add(Conv2D(128, (3, 3), activation='relu'))\n",
    "model.add(Dropout(0.1))\n",
    "model.add(Conv2D(128, (3, 3), activation='relu'))\n",
    "model.add(Dropout(0.1))\n",
    "\n",
    "model.add(MaxPooling2D(pool_size=(2, 2)))\n",
    "\n",
    "model.add(Flatten())\n",
    "\n",
    "model.add(Dense(128, activation='relu'))\n",
    "\n",
    "model.add(Dense(8, activation='softmax'))"
   ]
  },
  {
   "cell_type": "markdown",
   "id": "24fe7c1e-e793-4a5b-bb05-6ffacaec134e",
   "metadata": {},
   "source": [
    "Építse fel a modellt\n",
    "\r\n",
    "a. Veszteségfüggvénynek olyat válasszon, amely alkalmas softmax alapú többosztályú klasszifikációra!\r\n",
    "b. A választott optimalizációs módszer legyen adam;\r\n",
    "c. A kiértékeléskor használt metrika a klasszifikációs pontosság legye\n",
    "\n",
    "5. Jelenítse meg a modell strukturáját és a tanítható paraméterek számát!"
   ]
  },
  {
   "cell_type": "code",
   "execution_count": null,
   "id": "4950b341-371d-47d2-9386-54fe0d6050c6",
   "metadata": {},
   "outputs": [],
   "source": [
    "model.compile(\n",
    "    optimizer='adam',  # Optimalizáló\n",
    "    loss='categorical_crossentropy',  # Többosztályú klasszifikációs veszteségfüggvény\n",
    "    metrics=['accuracy']  # Pontosság mint metrika\n",
    ")\n",
    "\n",
    "model.summary()"
   ]
  },
  {
   "cell_type": "markdown",
   "id": "41c233f7-f60a-4454-9d19-e8833e4b261f",
   "metadata": {},
   "source": [
    "Tanítsa fel a neurális hálózatot a tanítóadatokon!\n",
    "\r\n",
    "a. A tanítás során a tanítómintákat legfeljebb 1000 alkalommal adja át a hálózatnak;\r\n",
    "b. Azonban ha a validációs adatokon mért veszteség nem javul 5 epochon át, akkor a tanítást állítsa le."
   ]
  },
  {
   "cell_type": "code",
   "execution_count": null,
   "id": "420dab8d-5122-4ed1-8de9-f484a0de2eb3",
   "metadata": {},
   "outputs": [],
   "source": [
    "from keras.callbacks import EarlyStopping\n",
    "\n",
    "early_stopping = EarlyStopping(\n",
    "    monitor='val_loss',  # A validációs veszteséget figyeljük\n",
    "    patience=5,  # Ha 5 epochon keresztül nem javul, leállítjuk a tanítást\n",
    "    restore_best_weights=True  # A legjobb súlyokat állítja vissza\n",
    ")\n",
    "\n",
    "history = model.fit(\n",
    "    train_generator,  # Tanítóadatok\n",
    "    epochs=1000,  # Maximum epoch\n",
    "    validation_data=validation_generator,  # Validációs adatok\n",
    "    callbacks=[early_stopping]  # Callback használata\n",
    ")"
   ]
  },
  {
   "cell_type": "markdown",
   "id": "1f97bb2f-0ad2-4e4b-8339-aa9933ca6507",
   "metadata": {},
   "source": [
    "Rajzolja ki a matplotlib segítségével a tanítás során a veszteség és a klasszifikációs pontosság változását!"
   ]
  },
  {
   "cell_type": "code",
   "execution_count": null,
   "id": "4cd6cdcc-b2f0-4632-9a29-5d729bd7e1e7",
   "metadata": {},
   "outputs": [],
   "source": [
    "import matplotlib.pyplot as plt\n",
    "\n",
    "# Tanítási és validációs veszteség ábrázolása\n",
    "plt.figure(figsize=(12, 6))\n",
    "\n",
    "plt.subplot(1, 2, 1)  # Az első ábra (1 sor, 2 oszlop, 1. hely)\n",
    "plt.plot(history.history['loss'], label='Train Loss')\n",
    "plt.plot(history.history['val_loss'], label='Validation Loss')\n",
    "plt.xlabel('Epochs')\n",
    "plt.ylabel('Loss')\n",
    "plt.title('Loss Over Epochs')\n",
    "plt.legend()\n",
    "\n",
    "# Tanítási és validációs pontosság ábrázolása\n",
    "plt.subplot(1, 2, 2)  # Az második ábra (1 sor, 2 oszlop, 2. hely)\n",
    "plt.plot(history.history['accuracy'], label='Train Accuracy')\n",
    "plt.plot(history.history['val_accuracy'], label='Validation Accuracy')\n",
    "plt.xlabel('Epochs')\n",
    "plt.ylabel('Accuracy')\n",
    "plt.title('Accuracy Over Epochs')\n",
    "plt.legend()\n",
    "\n",
    "plt.tight_layout()\n",
    "plt.show()"
   ]
  },
  {
   "cell_type": "markdown",
   "id": "6bfb383c-d014-4a84-ade8-15b6f2afecef",
   "metadata": {},
   "source": [
    "Írja ki az utolsó lépésben mért klasszifikációs pontosságot a tanítóadatokon és a validációs adatokon!\n",
    "a. Értékelje ki a modell teljesítményét a tesztadatokon!"
   ]
  },
  {
   "cell_type": "code",
   "execution_count": null,
   "id": "47690412-470b-4fe4-bb1a-65704840bc77",
   "metadata": {},
   "outputs": [],
   "source": [
    "# Utolsó epoch pontosság kiírása\n",
    "train_accuracy = history.history['accuracy'][-1]\n",
    "val_accuracy = history.history['val_accuracy'][-1]\n",
    "\n",
    "print(f\"Train Accuracy (last epoch): {train_accuracy:.2f}\")\n",
    "print(f\"Validation Accuracy (last epoch): {val_accuracy:.2f}\")\n",
    "\n",
    "# Modell teljesítményének kiértékelése tesztadatokon\n",
    "test_loss, test_accuracy = model.evaluate(test_generator)\n",
    "\n",
    "print(f\"Test Loss: {test_loss:.2f}\")\n",
    "print(f\"Test Accuracy: {test_accuracy:.2f}\")"
   ]
  }
 ],
 "metadata": {
  "kernelspec": {
   "display_name": "Python 3 (ipykernel)",
   "language": "python",
   "name": "python3"
  },
  "language_info": {
   "codemirror_mode": {
    "name": "ipython",
    "version": 3
   },
   "file_extension": ".py",
   "mimetype": "text/x-python",
   "name": "python",
   "nbconvert_exporter": "python",
   "pygments_lexer": "ipython3",
   "version": "3.11.7"
  }
 },
 "nbformat": 4,
 "nbformat_minor": 5
}
